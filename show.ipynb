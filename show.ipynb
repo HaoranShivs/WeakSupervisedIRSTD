{
 "cells": [
  {
   "cell_type": "code",
   "execution_count": 4,
   "id": "bd012da2",
   "metadata": {},
   "outputs": [],
   "source": [
    "import torch\n",
    "import torch.nn.functional as F\n",
    "import torchvision.transforms.functional as TF\n",
    "import torch.utils.data as Data\n",
    "import numpy as np\n",
    "import matplotlib.pyplot as plt\n",
    "import yaml\n",
    "\n",
    "from data.sirst import IRSTD1kDataset, NUDTDataset\n",
    "\n",
    "from utils.grad_expand_utils import *"
   ]
  },
  {
   "cell_type": "code",
   "execution_count": 5,
   "id": "95bc67a1",
   "metadata": {},
   "outputs": [],
   "source": [
    "# cfg\n",
    "cfg_path = './cfg.yaml'\n",
    "with open(cfg_path) as f:\n",
    "    cfg = yaml.safe_load(f)\n",
    "\n",
    "# dataset\n",
    "file_name = '_target'\n",
    "\n",
    "# trainset = NUDTDataset(base_dir=r\"W:/DataSets/ISTD/NUDT-SIRST\", mode=\"train\", base_size=256, pt_label=True, \\\n",
    "#                         pesudo_label=True, augment=False, turn_num=0, file_name=file_name, cfg=cfg)\n",
    "# img_path = \"W:/DataSets/ISTD/NUDT-SIRST/trainval/images\" \n",
    "# elif args.dataset == 'sirstaug':\n",
    "#     trainset = SirstAugDataset(base_dir=r'./datasets/sirst_aug',\n",
    "#                                mode='train', base_size=args.base_size)  # base_dir=r'E:\\ztf\\datasets\\sirst_aug'\n",
    "trainset = IRSTD1kDataset(base_dir=r\"W:/DataSets/ISTD/IRSTD-1k\", mode=\"train\", base_size=512, pt_label=True, \\\n",
    "                            pesudo_label=True, augment=False, turn_num=0, file_name=file_name, cfg=cfg)\n",
    "img_path = \"W:/DataSets/ISTD/IRSTD-1k/trainval/images\"\n",
    "    \n",
    "    \n",
    "train_data_loader = Data.DataLoader(trainset, batch_size=32, shuffle=False, drop_last=False)"
   ]
  },
  {
   "cell_type": "code",
   "execution_count": 30,
   "id": "f0b19e1a",
   "metadata": {},
   "outputs": [],
   "source": [
    "def gradient_expand_one_size(region, scale_weight=[0.5, 0.5, 0.5], target_mask=None, alpha=0.5, beta=0.8, view=False):\n",
    "    # 归一化区域像素，以形成更强烈的边缘\n",
    "    region_ = (region - region.min())/(region.max() - region.min())\n",
    "    # 梯度形成\n",
    "    img_gradient_1 = img_gradient2(region_)  # 2*2 sober\n",
    "    img_gradient_2 = img_gradient3(region_)  # 3*3 sober\n",
    "    img_gradient_3 = img_gradient5(region_)  # 5*5 sobel\n",
    "    \n",
    "    # 梯度映射，突出中灰度的区分度\n",
    "    img_gradient_1, img_gradient_2, img_gradient_3 = sigmoid_mapping3(img_gradient_1, 10), \\\n",
    "         sigmoid_mapping3(img_gradient_2, 10), sigmoid_mapping3(img_gradient_3, 10)\n",
    "    # 多尺度融合\n",
    "    img_gradient_ = grad_multi_scale_fusion(img_gradient_1, scale_weight[0]) * grad_multi_scale_fusion(img_gradient_2, scale_weight[0]) * \\\n",
    "        grad_multi_scale_fusion(img_gradient_3, scale_weight[0])\n",
    "    # 使用target_mask来增强对应区域的梯度\n",
    "    if target_mask is not None:\n",
    "        img_gradient_ = alpha + (img_gradient_ - img_gradient_.min())/(img_gradient_.max() - img_gradient_.min() + 1e-11) * (1 - alpha)   # 变换\n",
    "        target_mask = beta + (target_mask - target_mask.min())/(target_mask.max() - target_mask.min() + 1e-11) * (1 - beta)\n",
    "        img_gradient_ = img_gradient_ * target_mask.unsqueeze(0).unsqueeze(0)   # (1,24,H,W) *(1,1,H,W)\n",
    "    img_gradient_ = (img_gradient_ - img_gradient_.min())/(img_gradient_.max() - img_gradient_.min() + 1e-11)\n",
    "\n",
    "    # 用单像素宽度的梯度替代模糊边缘的宽的梯度\n",
    "    grad_mask = local_max_gradient(img_gradient_)\n",
    "    img_gradient_4 = grad_mask * img_gradient_\n",
    "\n",
    "    # 扩展梯度\n",
    "    grad_boundary = boundary4gradient_expand(img_gradient_4, 1e3)\n",
    "    expanded_grad = img_gradient_4\n",
    "    region_size = region.shape[2] if region.shape[2] > region.shape[3] else region.shape[3]\n",
    "    for z in range(region_size):\n",
    "        expanded_grad_ = gradient_expand_one_step(expanded_grad)\n",
    "        expanded_grad_ += grad_boundary\n",
    "        expanded_grad_ = torch.where(expanded_grad > expanded_grad_, expanded_grad, expanded_grad_) * (expanded_grad_ > -1e-4)\n",
    "        expanded_grad = expanded_grad_\n",
    "\n",
    "    # for show\n",
    "    expand0 = expanded_grad[:,0].clone()\n",
    "    grad_0 = (img_gradient_4[:,0].clone() > 0.1).float()\n",
    "    grad_12 = (grad_boundary[:,0].clone() * -1e-3 > 0.1).float()\n",
    "    expand0 = torch.clamp_min(expand0, 0)\n",
    "    pict_rgb = torch.cat([expand0+grad_12, expand0,expand0+grad_0])\n",
    "    plt.figure(figsize=(5, 5))\n",
    "    plt.imshow(pict_rgb.permute(1,2,0))\n",
    "    plt.show()\n",
    "    \n",
    "    \n",
    "\n",
    "    _target = torch.sum(expanded_grad[0], dim=0)\n",
    "    _target = (_target - _target.min())/(_target.max() - _target.min())\n",
    "\n",
    "    # # 显示结果\n",
    "    # angle_idx = 3\n",
    "    # grad_boundary_4show = torch.cat((-grad_boundary[:,angle_idx]*1e-20, torch.zeros_like(grad_boundary[:,angle_idx]), torch.zeros_like(grad_boundary[:,angle_idx])), dim=0)\n",
    "    # plt.figure(figsize=(25, 5))\n",
    "    # plt.subplot(151), plt.imshow(region[:,0].repeat(3,1,1).permute(1,2,0))\n",
    "    # plt.subplot(152), plt.imshow((img_gradient_4[:,angle_idx].repeat(3,1,1) + grad_boundary_4show).permute(1,2,0))\n",
    "    # plt.subplot(153), plt.imshow(grad_boundary_4show.permute(1,2,0))\n",
    "    # plt.subplot(154), plt.imshow(expanded_grad[:,angle_idx].repeat(3,1,1).permute(1,2,0))\n",
    "    # plt.subplot(155), plt.imshow(_target.unsqueeze(0).repeat(3,1,1).permute(1,2,0))\n",
    "    # plt.show()\n",
    "    if view:\n",
    "        return _target, (img_gradient_1, img_gradient_2, img_gradient_3, img_gradient_4, grad_mask, grad_boundary, expanded_grad)\n",
    "    return _target, ()"
   ]
  },
  {
   "cell_type": "code",
   "execution_count": 31,
   "id": "59e98445",
   "metadata": {},
   "outputs": [
    {
     "name": "stderr",
     "output_type": "stream",
     "text": [
      "Clipping input data to the valid range for imshow with RGB data ([0..1] for floats or [0..255] for integers). Got range [0.0..1.7177225].\n"
     ]
    },
    {
     "data": {
      "image/png": "[encoded data removed]",
      "text/plain": [
       "<Figure size 500x500 with 1 Axes>"
      ]
     },
     "metadata": {},
     "output_type": "display_data"
    }
   ],
   "source": [
    "for j, (img, pt_label, pesudo_label) in enumerate(train_data_loader):\n",
    "    B, _, H, W = img.shape\n",
    "    indices = torch.where(pt_label > 1e-4)\n",
    "\n",
    "    for b, _, s1, s2 in zip(*indices):\n",
    "        # 提取区域\n",
    "        targets = []\n",
    "        size = 32\n",
    "\n",
    "        y1 = max(1, s1 - size // 2)\n",
    "        x1 = max(1, s2 - size // 2)\n",
    "        y2 = min(H-1, s1 + (size - size // 2))\n",
    "        x2 = min(W-1, s2 + (size - size // 2))\n",
    "        _region = img[b:b+1,:1, y1:y2, x1:x2]\n",
    "\n",
    "        _target, _ = gradient_expand_one_size(_region, [0.5, 0.5, 0.5])\n"
   ]
  },
  {
   "cell_type": "code",
   "execution_count": null,
   "id": "ce26a3b3",
   "metadata": {},
   "outputs": [],
   "source": []
  }
 ],
 "metadata": {
  "kernelspec": {
   "display_name": "torch221",
   "language": "python",
   "name": "python3"
  },
  "language_info": {
   "codemirror_mode": {
    "name": "ipython",
    "version": 3
   },
   "file_extension": ".py",
   "mimetype": "text/x-python",
   "name": "python",
   "nbconvert_exporter": "python",
   "pygments_lexer": "ipython3",
   "version": "3.9.19"
  }
 },
 "nbformat": 4,
 "nbformat_minor": 5
}
